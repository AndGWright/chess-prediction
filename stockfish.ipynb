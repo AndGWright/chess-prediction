{
 "cells": [
  {
   "cell_type": "code",
   "execution_count": 2,
   "metadata": {},
   "outputs": [],
   "source": [
    "import pandas as pd\n",
    "import numpy as np\n",
    "from sklearn.model_selection import train_test_split\n",
    "from sklearn import metrics\n",
    "from sklearn.linear_model import LogisticRegression\n",
    "from sklearn.ensemble import RandomForestClassifier\n",
    "from sklearn.model_selection import GridSearchCV\n",
    "from sklearn.preprocessing import OneHotEncoder\n",
    "import matplotlib.pyplot as plt\n",
    "import re\n",
    "from xgboost import XGBClassifier\n",
    "import chess.pgn\n",
    "import io\n",
    "from stockfish import Stockfish"
   ]
  },
  {
   "cell_type": "code",
   "execution_count": 8,
   "metadata": {},
   "outputs": [],
   "source": [
    "df=pd.read_csv('games.csv')\n"
   ]
  },
  {
   "cell_type": "code",
   "execution_count": 9,
   "metadata": {},
   "outputs": [
    {
     "name": "stdout",
     "output_type": "stream",
     "text": [
      "1. d4 Nc6 2. e4 e5 3. f4 f6 4. dxe5 fxe5 5. fxe5 Nxe5 6. Qd4 Nc6 7. Qe5+ Nxe5 8. c4 Bb4+\n"
     ]
    }
   ],
   "source": [
    "game = chess.pgn.read_game(io.StringIO(df['moves'][1])) #parse each pgn string\n",
    "print(game.mainline_moves())"
   ]
  },
  {
   "cell_type": "markdown",
   "metadata": {},
   "source": [
    "Using the Chess module, we can parse the string of moves for each game into a format readable by Stockfish. We will aim to create a function that extracts and then evaluates the state of a game at a particular move number, or node"
   ]
  },
  {
   "cell_type": "code",
   "execution_count": 65,
   "metadata": {},
   "outputs": [],
   "source": [
    "#extract the nth node of a pgn string as a linked list\n",
    "def get_nth_node(self, n):\n",
    "    current=game\n",
    "    count = 0\n",
    "\n",
    "    while current:\n",
    "        if count == n:\n",
    "            return current\n",
    "        count += 1\n",
    "        current = current.next()"
   ]
  },
  {
   "cell_type": "code",
   "execution_count": 67,
   "metadata": {},
   "outputs": [],
   "source": [
    "#stockfish parameters - depth can be adjusted here to increase precision of evaluation\n",
    "stockfish = Stockfish(path=\"/stockfish/stockfish-windows-x86-64-avx2.exe\", depth=18, parameters={\"Threads\": 2, \"Minimum Thinking Time\": 30})"
   ]
  },
  {
   "cell_type": "markdown",
   "metadata": {},
   "source": [
    "The stockfish get_evaluation method will return the valuation for a given game state. To start, we will be evaluating each game at its halfway point. In the future it may be worth looking into evaluations at different points during the match, but generally states at the very begginging or ends of the match will be less interesting and likely less informative for our model.  \n",
    "\n",
    "This is an example of what this will look like, along with a visual representation of the board at the state in time. In this case, the match is evaluated to be a forced checkmate in 6 moves. For other games, type will be \"cp\", which indicates that stockfish has not identified a forced checkmate, and is instead producting a calculated evaluation in centipawn units (equal to the approximate advantage of 1/100 of a pawn). Note that decision tree based models such as XGBoost will be robust to the conditional nature of this variable, but in order to train other models such as a logistic regression we would need to split it into two "
   ]
  },
  {
   "cell_type": "code",
   "execution_count": 68,
   "metadata": {},
   "outputs": [
    {
     "name": "stdout",
     "output_type": "stream",
     "text": [
      ". . . . k b n r\n",
      ". . . . . p p p\n",
      ". . P . b . . .\n",
      ". . . P p . . .\n",
      ". . . . . . . .\n",
      "R . P . B . . .\n",
      ". P . . B P P P\n",
      ". . . Q K . N R\n",
      "('mate', 8)\n"
     ]
    }
   ],
   "source": [
    "game = chess.pgn.read_game(io.StringIO(df['moves'][2])) #parse pgn string\n",
    "\n",
    "game_node = get_nth_node(game,int(df['turns'][2]/2))\n",
    "board=game_node.board()\n",
    "pos = board.fen(en_passant='fen') #grab fen string of current position\n",
    "stockfish.set_fen_position(pos)\n",
    "eval=stockfish.get_evaluation()\n",
    "print(board)\n",
    "print((eval['type'], eval['value']))"
   ]
  },
  {
   "cell_type": "code",
   "execution_count": 66,
   "metadata": {},
   "outputs": [],
   "source": [
    "#get stockfish evaluation for each row in dataset\n",
    "df2=[]\n",
    "for index,row in df.iterrows():\n",
    "    game = chess.pgn.read_game(io.StringIO(df['moves'][index])) \n",
    "    game_node = get_nth_node(game,int(df['turns'][index]/2))\n",
    "    board=game_node.board()\n",
    "    pos = board.fen(en_passant='fen') #grab fen string of current position\n",
    "    stockfish.set_fen_position(pos)\n",
    "    eval=stockfish.get_evaluation()\n",
    "    df2.append((df['id'][index],eval['type'], eval['value'] ))\n"
   ]
  },
  {
   "cell_type": "code",
   "execution_count": 52,
   "metadata": {},
   "outputs": [],
   "source": [
    "df2=pd.DataFrame(df2,columns=('id','end_type','cp_loss'))\n",
    "df2=df2.set_index('id')"
   ]
  },
  {
   "cell_type": "code",
   "execution_count": 62,
   "metadata": {},
   "outputs": [
    {
     "data": {
      "text/html": [
       "<div>\n",
       "<style scoped>\n",
       "    .dataframe tbody tr th:only-of-type {\n",
       "        vertical-align: middle;\n",
       "    }\n",
       "\n",
       "    .dataframe tbody tr th {\n",
       "        vertical-align: top;\n",
       "    }\n",
       "\n",
       "    .dataframe thead th {\n",
       "        text-align: right;\n",
       "    }\n",
       "</style>\n",
       "<table border=\"1\" class=\"dataframe\">\n",
       "  <thead>\n",
       "    <tr style=\"text-align: right;\">\n",
       "      <th></th>\n",
       "      <th>end_type</th>\n",
       "      <th>cp_loss</th>\n",
       "    </tr>\n",
       "    <tr>\n",
       "      <th>id</th>\n",
       "      <th></th>\n",
       "      <th></th>\n",
       "    </tr>\n",
       "  </thead>\n",
       "  <tbody>\n",
       "    <tr>\n",
       "      <th>TZJHLljE</th>\n",
       "      <td>cp</td>\n",
       "      <td>170</td>\n",
       "    </tr>\n",
       "    <tr>\n",
       "      <th>l1NXvwaE</th>\n",
       "      <td>cp</td>\n",
       "      <td>80</td>\n",
       "    </tr>\n",
       "    <tr>\n",
       "      <th>mIICvQHh</th>\n",
       "      <td>mate</td>\n",
       "      <td>11</td>\n",
       "    </tr>\n",
       "    <tr>\n",
       "      <th>kWKvrqYL</th>\n",
       "      <td>cp</td>\n",
       "      <td>1057</td>\n",
       "    </tr>\n",
       "    <tr>\n",
       "      <th>9tXo1AUZ</th>\n",
       "      <td>cp</td>\n",
       "      <td>622</td>\n",
       "    </tr>\n",
       "  </tbody>\n",
       "</table>\n",
       "</div>"
      ],
      "text/plain": [
       "         end_type  cp_loss\n",
       "id                        \n",
       "TZJHLljE       cp      170\n",
       "l1NXvwaE       cp       80\n",
       "mIICvQHh     mate       11\n",
       "kWKvrqYL       cp     1057\n",
       "9tXo1AUZ       cp      622"
      ]
     },
     "execution_count": 62,
     "metadata": {},
     "output_type": "execute_result"
    }
   ],
   "source": [
    "df2.head()"
   ]
  },
  {
   "cell_type": "code",
   "execution_count": 57,
   "metadata": {},
   "outputs": [],
   "source": [
    "#Load dataframe from \"chess.ipynb\" for creating models\n",
    "df1=pd.read_csv(r'C:\\Users\\andwr\\Documents\\code_outputs\\chess\\chess_preprocessed1.csv')"
   ]
  },
  {
   "cell_type": "code",
   "execution_count": 58,
   "metadata": {},
   "outputs": [],
   "source": [
    "#Join match evaluations to initial dataframe\n",
    "#Left join will remove rows for games that end in draws since these were removed from df1\n",
    "df1=df1.set_index('id')\n",
    "df3=df1.join(df2, on='id', how='left')\n",
    "df3.reset_index(drop=True,inplace=True)"
   ]
  },
  {
   "cell_type": "code",
   "execution_count": 72,
   "metadata": {},
   "outputs": [
    {
     "data": {
      "image/png": "[encoded data removed]",
      "text/plain": [
       "<Figure size 864x432 with 2 Axes>"
      ]
     },
     "metadata": {
      "needs_background": "light"
     },
     "output_type": "display_data"
    }
   ],
   "source": [
    "#Plot relationship between match winner and stockfish evaluation, boken out by evaluation type\n",
    "plt.figure(figsize=(12, 6))\n",
    "\n",
    "value1='cp'\n",
    "value2='mate'\n",
    "\n",
    "# First subplot for the first value of var3\n",
    "plt.subplot(1, 2, 1)\n",
    "plt.scatter(df3[df3['end_type'] == value1]['cp_loss'], df3[df3['end_type'] == value1]['white_win'])\n",
    "plt.title(f'Relationship between cp_loss and white_win (end_type = {value1})')\n",
    "plt.xlabel('cp_loss')\n",
    "plt.ylabel('white_win')\n",
    "\n",
    "# Second subplot for the second value of var3\n",
    "plt.subplot(1, 2, 2)\n",
    "plt.scatter(df3[df3['end_type'] == value2]['cp_loss'], df3[df3['end_type'] == value2]['white_win'])\n",
    "plt.title(f'Relationship between cp_loss and white_win (end_type = {value2})')\n",
    "plt.xlabel('cp_loss')\n",
    "plt.ylabel('white_win')\n",
    "\n",
    "# Adjust layout\n",
    "plt.tight_layout()\n",
    "\n",
    "# Show the plots\n",
    "plt.show()\n"
   ]
  },
  {
   "cell_type": "markdown",
   "metadata": {},
   "source": [
    "Based on this visualization, there is at least some relationship between the midpoint stockfish evaluation and the ultimate winner of the match. We will now look into how this adds to our ability to make a prediction about the winner in addition to the initial features used."
   ]
  },
  {
   "cell_type": "code",
   "execution_count": 60,
   "metadata": {},
   "outputs": [],
   "source": [
    "#Perfrom same encoding and test split as before\n",
    "enc = OneHotEncoder()\n",
    "df3_enc= enc.fit_transform(df3[['opening_group','rated','victory_status','end_type']])\n",
    "df3_enc=pd.DataFrame(df3_enc.toarray(),columns=enc.get_feature_names_out())\n",
    "df3=pd.concat([df3,df3_enc],axis=1)\n",
    "cols=['rating_diff','white_rating','turns','game_length','increment','cp_loss']\n",
    "enc_cols=[i for i in enc.get_feature_names_out()]\n",
    "cols.extend(enc_cols)\n",
    "X_train, X_test, y_train, y_test = train_test_split(df3[cols], df3.white_win, test_size=0.25, random_state=0)"
   ]
  },
  {
   "cell_type": "code",
   "execution_count": 61,
   "metadata": {},
   "outputs": [
    {
     "name": "stdout",
     "output_type": "stream",
     "text": [
      "XGBoost Training Accuracy: 0.96%\n",
      "XGBoost Test Accuracy: 0.88%\n"
     ]
    }
   ],
   "source": [
    "#Create a Gradient boosted tree model using XGBoost using GridSearchCV to find optimal hyperparameters\n",
    "xgb = XGBClassifier()\n",
    "\n",
    "param_grid = {\n",
    "    'max_depth': [3, 5, 8, 13],              \n",
    "    'min_child_weight': [1, 3, 5, 7],         \n",
    "    'gamma': [0, 0.1, 1],               \n",
    "    'subsample': [0.8, 0.9],              \n",
    "    'colsample_bytree': [0.8, 0.9]       \n",
    "}\n",
    "\n",
    "grid_search = GridSearchCV(xgb, param_grid, cv=5)\n",
    "grid_search.fit(X_train, y_train)\n",
    "\n",
    "best_xgb_model = grid_search.best_estimator_\n",
    "\n",
    "y_pred = best_xgb_model.predict(X_test)\n",
    "\n",
    "train_score=best_xgb_model.score(X_train, y_train)\n",
    "test_score=best_xgb_model.score(X_test, y_test)\n",
    "\n",
    "print(f\"XGBoost Training Accuracy: {train_score:.2f}%\")\n",
    "print(f\"XGBoost Test Accuracy: {test_score:.2f}%\")"
   ]
  },
  {
   "cell_type": "code",
   "execution_count": 63,
   "metadata": {},
   "outputs": [
    {
     "name": "stdout",
     "output_type": "stream",
     "text": [
      "                                Feature  Importance\n",
      "5                               cp_loss    0.046380\n",
      "2                                 turns    0.040099\n",
      "0                           rating_diff    0.030123\n",
      "63   opening_group_King's Indian Attack    0.029142\n",
      "137            victory_status_outoftime    0.026980\n",
      "26            opening_group_Center Game    0.024508\n",
      "56            opening_group_Indian Game    0.024323\n",
      "100     opening_group_Queen's Pawn Game    0.024130\n",
      "139                         end_type_cp    0.023074\n",
      "112           opening_group_Scotch Game    0.021520\n"
     ]
    }
   ],
   "source": [
    "# Get feature importance scores of the model\n",
    "feature_scores = best_xgb_model.feature_importances_\n",
    "feature_importance = pd.DataFrame({'Feature': X_train.columns, 'Importance': feature_scores})\n",
    "feature_importance = feature_importance.sort_values(by='Importance', ascending=False)\n",
    "print(feature_importance.head(10))"
   ]
  },
  {
   "cell_type": "markdown",
   "metadata": {},
   "source": [
    "Adding in the stockfish evaluation at the midaway point of each gamne allows us to create a significantly more accurate model. cp_loss ends up being the most important variable under this importance measure. To further understand its importance in the model, we can use SHAP to provide a game-theoretic measure of its contribution."
   ]
  }
 ],
 "metadata": {
  "kernelspec": {
   "display_name": "Python 3",
   "language": "python",
   "name": "python3"
  },
  "language_info": {
   "codemirror_mode": {
    "name": "ipython",
    "version": 3
   },
   "file_extension": ".py",
   "mimetype": "text/x-python",
   "name": "python",
   "nbconvert_exporter": "python",
   "pygments_lexer": "ipython3",
   "version": "3.10.4"
  },
  "orig_nbformat": 4
 },
 "nbformat": 4,
 "nbformat_minor": 2
}
